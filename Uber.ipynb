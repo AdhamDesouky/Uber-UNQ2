{
 "cells": [
  {
   "cell_type": "code",
   "execution_count": 1,
   "metadata": {},
   "outputs": [],
   "source": [
    "import numpy as np\n",
    "import pandas as pd\n",
    "import matplotlib.pyplot as plt\n",
    "import seaborn as sns\n",
    "from fpdf import FPDF\n",
    "from datetime import timedelta\n",
    "from sklearn.preprocessing import LabelEncoder"
   ]
  },
  {
   "cell_type": "markdown",
   "metadata": {},
   "source": [
    "#### Load the dataset"
   ]
  },
  {
   "cell_type": "code",
   "execution_count": 2,
   "metadata": {},
   "outputs": [],
   "source": [
    "df = pd.read_csv('UberDataset.csv')"
   ]
  },
  {
   "cell_type": "markdown",
   "metadata": {},
   "source": [
    "#### Display the first few rows"
   ]
  },
  {
   "cell_type": "code",
   "execution_count": 3,
   "metadata": {},
   "outputs": [
    {
     "data": {
      "text/html": [
       "<div>\n",
       "<style scoped>\n",
       "    .dataframe tbody tr th:only-of-type {\n",
       "        vertical-align: middle;\n",
       "    }\n",
       "\n",
       "    .dataframe tbody tr th {\n",
       "        vertical-align: top;\n",
       "    }\n",
       "\n",
       "    .dataframe thead th {\n",
       "        text-align: right;\n",
       "    }\n",
       "</style>\n",
       "<table border=\"1\" class=\"dataframe\">\n",
       "  <thead>\n",
       "    <tr style=\"text-align: right;\">\n",
       "      <th></th>\n",
       "      <th>START_DATE</th>\n",
       "      <th>END_DATE</th>\n",
       "      <th>CATEGORY</th>\n",
       "      <th>START</th>\n",
       "      <th>STOP</th>\n",
       "      <th>MILES</th>\n",
       "      <th>PURPOSE</th>\n",
       "    </tr>\n",
       "  </thead>\n",
       "  <tbody>\n",
       "    <tr>\n",
       "      <th>0</th>\n",
       "      <td>01-01-2016 21:11</td>\n",
       "      <td>01-01-2016 21:17</td>\n",
       "      <td>Business</td>\n",
       "      <td>Fort Pierce</td>\n",
       "      <td>Fort Pierce</td>\n",
       "      <td>5.1</td>\n",
       "      <td>Meal/Entertain</td>\n",
       "    </tr>\n",
       "    <tr>\n",
       "      <th>1</th>\n",
       "      <td>01-02-2016 01:25</td>\n",
       "      <td>01-02-2016 01:37</td>\n",
       "      <td>Business</td>\n",
       "      <td>Fort Pierce</td>\n",
       "      <td>Fort Pierce</td>\n",
       "      <td>5.0</td>\n",
       "      <td>NaN</td>\n",
       "    </tr>\n",
       "    <tr>\n",
       "      <th>2</th>\n",
       "      <td>01-02-2016 20:25</td>\n",
       "      <td>01-02-2016 20:38</td>\n",
       "      <td>Business</td>\n",
       "      <td>Fort Pierce</td>\n",
       "      <td>Fort Pierce</td>\n",
       "      <td>4.8</td>\n",
       "      <td>Errand/Supplies</td>\n",
       "    </tr>\n",
       "    <tr>\n",
       "      <th>3</th>\n",
       "      <td>01-05-2016 17:31</td>\n",
       "      <td>01-05-2016 17:45</td>\n",
       "      <td>Business</td>\n",
       "      <td>Fort Pierce</td>\n",
       "      <td>Fort Pierce</td>\n",
       "      <td>4.7</td>\n",
       "      <td>Meeting</td>\n",
       "    </tr>\n",
       "    <tr>\n",
       "      <th>4</th>\n",
       "      <td>01-06-2016 14:42</td>\n",
       "      <td>01-06-2016 15:49</td>\n",
       "      <td>Business</td>\n",
       "      <td>Fort Pierce</td>\n",
       "      <td>West Palm Beach</td>\n",
       "      <td>63.7</td>\n",
       "      <td>Customer Visit</td>\n",
       "    </tr>\n",
       "  </tbody>\n",
       "</table>\n",
       "</div>"
      ],
      "text/plain": [
       "         START_DATE          END_DATE  CATEGORY        START             STOP  \\\n",
       "0  01-01-2016 21:11  01-01-2016 21:17  Business  Fort Pierce      Fort Pierce   \n",
       "1  01-02-2016 01:25  01-02-2016 01:37  Business  Fort Pierce      Fort Pierce   \n",
       "2  01-02-2016 20:25  01-02-2016 20:38  Business  Fort Pierce      Fort Pierce   \n",
       "3  01-05-2016 17:31  01-05-2016 17:45  Business  Fort Pierce      Fort Pierce   \n",
       "4  01-06-2016 14:42  01-06-2016 15:49  Business  Fort Pierce  West Palm Beach   \n",
       "\n",
       "   MILES          PURPOSE  \n",
       "0    5.1   Meal/Entertain  \n",
       "1    5.0              NaN  \n",
       "2    4.8  Errand/Supplies  \n",
       "3    4.7          Meeting  \n",
       "4   63.7   Customer Visit  "
      ]
     },
     "execution_count": 3,
     "metadata": {},
     "output_type": "execute_result"
    }
   ],
   "source": [
    "df.head()"
   ]
  },
  {
   "cell_type": "markdown",
   "metadata": {},
   "source": [
    "#### Display dataset summary statistics"
   ]
  },
  {
   "cell_type": "code",
   "execution_count": 4,
   "metadata": {},
   "outputs": [
    {
     "data": {
      "text/html": [
       "<div>\n",
       "<style scoped>\n",
       "    .dataframe tbody tr th:only-of-type {\n",
       "        vertical-align: middle;\n",
       "    }\n",
       "\n",
       "    .dataframe tbody tr th {\n",
       "        vertical-align: top;\n",
       "    }\n",
       "\n",
       "    .dataframe thead th {\n",
       "        text-align: right;\n",
       "    }\n",
       "</style>\n",
       "<table border=\"1\" class=\"dataframe\">\n",
       "  <thead>\n",
       "    <tr style=\"text-align: right;\">\n",
       "      <th></th>\n",
       "      <th>MILES</th>\n",
       "    </tr>\n",
       "  </thead>\n",
       "  <tbody>\n",
       "    <tr>\n",
       "      <th>count</th>\n",
       "      <td>1156.000000</td>\n",
       "    </tr>\n",
       "    <tr>\n",
       "      <th>mean</th>\n",
       "      <td>21.115398</td>\n",
       "    </tr>\n",
       "    <tr>\n",
       "      <th>std</th>\n",
       "      <td>359.299007</td>\n",
       "    </tr>\n",
       "    <tr>\n",
       "      <th>min</th>\n",
       "      <td>0.500000</td>\n",
       "    </tr>\n",
       "    <tr>\n",
       "      <th>25%</th>\n",
       "      <td>2.900000</td>\n",
       "    </tr>\n",
       "    <tr>\n",
       "      <th>50%</th>\n",
       "      <td>6.000000</td>\n",
       "    </tr>\n",
       "    <tr>\n",
       "      <th>75%</th>\n",
       "      <td>10.400000</td>\n",
       "    </tr>\n",
       "    <tr>\n",
       "      <th>max</th>\n",
       "      <td>12204.700000</td>\n",
       "    </tr>\n",
       "  </tbody>\n",
       "</table>\n",
       "</div>"
      ],
      "text/plain": [
       "              MILES\n",
       "count   1156.000000\n",
       "mean      21.115398\n",
       "std      359.299007\n",
       "min        0.500000\n",
       "25%        2.900000\n",
       "50%        6.000000\n",
       "75%       10.400000\n",
       "max    12204.700000"
      ]
     },
     "execution_count": 4,
     "metadata": {},
     "output_type": "execute_result"
    }
   ],
   "source": [
    "df.describe()"
   ]
  },
  {
   "cell_type": "markdown",
   "metadata": {},
   "source": [
    "#### Display dataset info"
   ]
  },
  {
   "cell_type": "code",
   "execution_count": 5,
   "metadata": {},
   "outputs": [
    {
     "name": "stdout",
     "output_type": "stream",
     "text": [
      "<class 'pandas.core.frame.DataFrame'>\n",
      "RangeIndex: 1156 entries, 0 to 1155\n",
      "Data columns (total 7 columns):\n",
      " #   Column      Non-Null Count  Dtype  \n",
      "---  ------      --------------  -----  \n",
      " 0   START_DATE  1156 non-null   object \n",
      " 1   END_DATE    1155 non-null   object \n",
      " 2   CATEGORY    1155 non-null   object \n",
      " 3   START       1155 non-null   object \n",
      " 4   STOP        1155 non-null   object \n",
      " 5   MILES       1156 non-null   float64\n",
      " 6   PURPOSE     653 non-null    object \n",
      "dtypes: float64(1), object(6)\n",
      "memory usage: 63.3+ KB\n"
     ]
    }
   ],
   "source": [
    "df.info()"
   ]
  },
  {
   "cell_type": "markdown",
   "metadata": {},
   "source": [
    "# Data Preprocessing"
   ]
  },
  {
   "cell_type": "code",
   "execution_count": 6,
   "metadata": {},
   "outputs": [
    {
     "name": "stdout",
     "output_type": "stream",
     "text": [
      "Missing values:\n",
      "START_DATE    735\n",
      "END_DATE      736\n",
      "CATEGORY        1\n",
      "START           1\n",
      "STOP            1\n",
      "MILES           0\n",
      "PURPOSE       503\n",
      "dtype: int64\n"
     ]
    }
   ],
   "source": [
    "df['START_DATE'] = pd.to_datetime(df['START_DATE'], errors='coerce')\n",
    "df['END_DATE'] = pd.to_datetime(df['END_DATE'], errors='coerce')\n",
    "\n",
    "missing_values = df.isnull().sum()\n",
    "print(f\"Missing values:\\n{missing_values}\")\n",
    "\n",
    "df['PURPOSE'].fillna('Unknown', inplace=True)\n",
    "\n",
    "df.dropna(subset=['START_DATE', 'END_DATE'], inplace=True)\n",
    "\n",
    "df['DAY_OF_WEEK'] = df['START_DATE'].dt.weekday\n",
    "df['WEEKEND'] = df['DAY_OF_WEEK'].isin([5, 6])  # 1 for weekends, 0 for weekdays\n",
    "df['TRIP_DURATION'] = df['END_DATE'] - df['START_DATE']\n",
    "df['TRIP_DURATION_MIN'] = df['TRIP_DURATION'].dt.total_seconds() / 60\n",
    "\n",
    "label_encoder = LabelEncoder()\n",
    "df['CATEGORY'] = label_encoder.fit_transform(df['CATEGORY'])\n",
    "df['PURPOSE'] = label_encoder.fit_transform(df['PURPOSE'])"
   ]
  },
  {
   "cell_type": "markdown",
   "metadata": {},
   "source": [
    "# Data Visualization"
   ]
  },
  {
   "cell_type": "code",
   "execution_count": 7,
   "metadata": {},
   "outputs": [],
   "source": [
    "sns.set(style=\"whitegrid\")"
   ]
  },
  {
   "cell_type": "code",
   "execution_count": 8,
   "metadata": {},
   "outputs": [
    {
     "name": "stderr",
     "output_type": "stream",
     "text": [
      "C:\\Users\\adham\\AppData\\Local\\Temp\\ipykernel_3140\\590319841.py:2: FutureWarning: \n",
      "\n",
      "Passing `palette` without assigning `hue` is deprecated and will be removed in v0.14.0. Assign the `y` variable to `hue` and set `legend=False` for the same effect.\n",
      "\n",
      "  sns.countplot(y='PURPOSE', data=df, order=df['PURPOSE'].value_counts().index, palette='viridis')\n",
      "C:\\Users\\adham\\AppData\\Local\\Temp\\ipykernel_3140\\590319841.py:10: FutureWarning: \n",
      "\n",
      "Passing `palette` without assigning `hue` is deprecated and will be removed in v0.14.0. Assign the `x` variable to `hue` and set `legend=False` for the same effect.\n",
      "\n",
      "  sns.boxplot(x='MILES', y='PURPOSE', data=df, palette='viridis')\n",
      "C:\\Users\\adham\\AppData\\Local\\Temp\\ipykernel_3140\\590319841.py:19: FutureWarning: \n",
      "\n",
      "Passing `palette` without assigning `hue` is deprecated and will be removed in v0.14.0. Assign the `x` variable to `hue` and set `legend=False` for the same effect.\n",
      "\n",
      "  sns.boxplot(x='Hour', y='MILES', data=df, palette='viridis')\n",
      "C:\\Users\\adham\\AppData\\Local\\Temp\\ipykernel_3140\\590319841.py:27: FutureWarning: \n",
      "\n",
      "Passing `palette` without assigning `hue` is deprecated and will be removed in v0.14.0. Assign the `x` variable to `hue` and set `legend=False` for the same effect.\n",
      "\n",
      "  sns.boxplot(x='CATEGORY', y='MILES', data=df, palette='viridis')\n"
     ]
    }
   ],
   "source": [
    "plt.figure(figsize=(12, 6))\n",
    "sns.countplot(y='PURPOSE', data=df, order=df['PURPOSE'].value_counts().index, palette='viridis')\n",
    "plt.title('Most Common Purposes for Uber Trips')\n",
    "plt.xlabel('Count')\n",
    "plt.ylabel('Purpose')\n",
    "plt.savefig('plot_common_purposes.png')\n",
    "plt.close()\n",
    "\n",
    "plt.figure(figsize=(12, 6))\n",
    "sns.boxplot(x='MILES', y='PURPOSE', data=df, palette='viridis')\n",
    "plt.title('Uber Trip Mileage Trends by Purpose')\n",
    "plt.xlabel('Miles')\n",
    "plt.ylabel('Purpose')\n",
    "plt.savefig('plot_mileage_purpose.png')\n",
    "plt.close()\n",
    "\n",
    "df['Hour'] = df['START_DATE'].dt.hour\n",
    "plt.figure(figsize=(12, 6))\n",
    "sns.boxplot(x='Hour', y='MILES', data=df, palette='viridis')\n",
    "plt.title('Uber Trip Mileage Trends by Time of Day')\n",
    "plt.xlabel('Hour of Day')\n",
    "plt.ylabel('Miles')\n",
    "plt.savefig('plot_mileage_hour.png')\n",
    "plt.close()\n",
    "\n",
    "plt.figure(figsize=(12, 6))\n",
    "sns.boxplot(x='CATEGORY', y='MILES', data=df, palette='viridis')\n",
    "plt.title('Comparative Overview of Trip Lengths for Business and Personal Categories')\n",
    "plt.xlabel('Category')\n",
    "plt.ylabel('Miles')\n",
    "plt.savefig('plot_mileage_category.png')\n",
    "plt.close()"
   ]
  },
  {
   "cell_type": "markdown",
   "metadata": {},
   "source": [
    "# PDF Report Generation"
   ]
  },
  {
   "cell_type": "code",
   "execution_count": 11,
   "metadata": {},
   "outputs": [
    {
     "data": {
      "text/plain": [
       "''"
      ]
     },
     "execution_count": 11,
     "metadata": {},
     "output_type": "execute_result"
    }
   ],
   "source": [
    "class PDF(FPDF):\n",
    "    def header(self):\n",
    "        self.set_font('Arial', 'B', 12)\n",
    "        self.cell(0, 10, 'Uber Data Analysis Report', 0, 1, 'C')\n",
    "\n",
    "    def chapter_title(self, title):\n",
    "        self.set_font('Arial', 'B', 12)\n",
    "        self.cell(0, 10, title, 0, 1, 'L')\n",
    "        self.ln(10)\n",
    "\n",
    "    def chapter_body(self, body):\n",
    "        self.set_font('Arial', '', 12)\n",
    "        self.multi_cell(0, 10, body)\n",
    "        self.ln()\n",
    "\n",
    "    def add_image(self, image_path, x, y, w, h):\n",
    "        self.image(image_path, x=x, y=y, w=w, h=h)\n",
    "\n",
    "# Create instance of PDF\n",
    "pdf = PDF()\n",
    "\n",
    "# Add a page\n",
    "pdf.add_page()\n",
    "\n",
    "# Title Page\n",
    "pdf.set_font('Arial', 'B', 16)\n",
    "pdf.cell(0, 10, 'Uber Data Analysis Report', 0, 1, 'C')\n",
    "pdf.ln(10)\n",
    "pdf.set_font('Arial', 'I', 12)\n",
    "pdf.cell(0, 10, 'An In-depth Exploratory Data Analysis', 0, 1, 'C')\n",
    "pdf.ln(20)\n",
    "\n",
    "# Summary Section\n",
    "pdf.chapter_title('Summary')\n",
    "summary_text = \"\"\"\n",
    "This report provides an in-depth analysis of Uber trip data. It explores the most common purposes for Uber trips, \n",
    "trip mileage trends by purpose and time of day, and provides a comparative overview of trip lengths for business \n",
    "and personal categories.\n",
    "\"\"\"\n",
    "pdf.chapter_body(summary_text)\n",
    "\n",
    "# Detailed Analysis Section\n",
    "pdf.add_page()\n",
    "pdf.chapter_title('Detailed Analysis')\n",
    "\n",
    "# Most Common Purposes for Uber Trips\n",
    "pdf.chapter_title('Most Common Purposes for Uber Trips')\n",
    "pdf.add_image('plot_common_purposes.png', x=10, y=50, w=180, h=100)\n",
    "pdf.ln(110)\n",
    "\n",
    "# Mileage Trends by Purpose\n",
    "pdf.chapter_title('Mileage Trends by Purpose')\n",
    "pdf.add_image('plot_mileage_purpose.png', x=10, y=160, w=180, h=100)\n",
    "pdf.add_page()\n",
    "\n",
    "# Mileage Trends by Time of Day\n",
    "pdf.chapter_title('Mileage Trends by Time of Day')\n",
    "pdf.add_image('plot_mileage_hour.png', x=10, y=50, w=180, h=100)\n",
    "pdf.ln(110)\n",
    "\n",
    "# Comparative Overview of Trip Lengths\n",
    "pdf.chapter_title('Comparative Overview of Trip Lengths')\n",
    "pdf.add_image('plot_mileage_category.png', x=10, y=160, w=180, h=100)\n",
    "pdf.add_page()\n",
    "\n",
    "# Recommendations Section\n",
    "pdf.chapter_title('Recommendations')\n",
    "recommendations_text = \"\"\"\n",
    "For a more comprehensive analysis, the dataset should include the following additional columns:\n",
    "1. Trip Fare: The fare for each trip to analyze cost efficiency.\n",
    "2. Trip Duration: Duration of each trip to study time efficiency.\n",
    "3. Driver Rating: Driver ratings to correlate trip purpose and customer satisfaction.\n",
    "\n",
    "By including these data points, more insightful analysis can be conducted, leading to better business decisions.\n",
    "\"\"\"\n",
    "pdf.chapter_body(recommendations_text)\n",
    "\n",
    "# Conclusion Section\n",
    "pdf.chapter_title('Conclusion')\n",
    "conclusion_text = \"\"\"\n",
    "This analysis highlights key insights into Uber trip purposes, mileage trends, and trip lengths. Incorporating \n",
    "the recommended data points will further enhance the understanding and efficiency of Uber trips, providing valuable \n",
    "information for strategic business decisions.\n",
    "\"\"\"\n",
    "pdf.chapter_body(conclusion_text)\n",
    "\n",
    "# Save the PDF\n",
    "pdf.output('Enhanced_Uber_Data_Analysis_Report.pdf')"
   ]
  },
  {
   "cell_type": "code",
   "execution_count": null,
   "metadata": {},
   "outputs": [],
   "source": []
  }
 ],
 "metadata": {
  "kernelspec": {
   "display_name": "Python 3",
   "language": "python",
   "name": "python3"
  },
  "language_info": {
   "codemirror_mode": {
    "name": "ipython",
    "version": 3
   },
   "file_extension": ".py",
   "mimetype": "text/x-python",
   "name": "python",
   "nbconvert_exporter": "python",
   "pygments_lexer": "ipython3",
   "version": "3.9.7"
  }
 },
 "nbformat": 4,
 "nbformat_minor": 2
}
